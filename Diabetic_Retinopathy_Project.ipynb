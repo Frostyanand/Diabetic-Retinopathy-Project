{
  "nbformat": 4,
  "nbformat_minor": 0,
  "metadata": {
    "colab": {
      "provenance": [],
      "gpuType": "T4",
      "private_outputs": true
    },
    "kernelspec": {
      "name": "python3",
      "display_name": "Python 3"
    },
    "language_info": {
      "name": "python"
    },
    "accelerator": "GPU"
  },
  "cells": [
    {
      "cell_type": "code",
      "source": [
        "#installing rclone dependencies\n",
        "!curl https://rclone.org/install.sh | sudo bash\n",
        "!apt-get update\n",
        "!apt-get install -y fuse3\n",
        "!rclone --version\n",
        "!which fusermount3\n",
        "!pip install -U timm  # Update timm\n",
        "!pip install -U albumentations --quiet"
      ],
      "metadata": {
        "collapsed": true,
        "id": "90Poor7eZclp"
      },
      "execution_count": null,
      "outputs": []
    },
    {
      "cell_type": "code",
      "source": [
        "#upload rclone config file here , keep the name of remote while creation as training_remote\n",
        "from google.colab import files\n",
        "uploaded = files.upload()"
      ],
      "metadata": {
        "collapsed": true,
        "id": "W7o5IOzFcvMu"
      },
      "execution_count": null,
      "outputs": []
    },
    {
      "cell_type": "code",
      "source": [
        "!mv rclone.conf /content/rclone.conf\n",
        "!rclone listremotes --config /content/rclone.conf"
      ],
      "metadata": {
        "collapsed": true,
        "id": "apimy9syenuL"
      },
      "execution_count": null,
      "outputs": []
    },
    {
      "cell_type": "code",
      "source": [
        "#debugging step : to unmount rclone if broken\n",
        "#!fusermount -u /content/drive\n",
        "#!umount -l /content/drive"
      ],
      "metadata": {
        "collapsed": true,
        "id": "YU85WvMdlItL"
      },
      "execution_count": null,
      "outputs": []
    },
    {
      "cell_type": "code",
      "source": [
        "#debugging step : to kill rclone if stuck or not working\n",
        "#!pkill -9 rclone"
      ],
      "metadata": {
        "id": "Z_Dl3t-pjumV"
      },
      "execution_count": null,
      "outputs": []
    },
    {
      "cell_type": "code",
      "source": [
        "#debugging step : to check if rclone was killed\n",
        "#!ps aux | grep rclone"
      ],
      "metadata": {
        "collapsed": true,
        "id": "1GcuqlpljvZd"
      },
      "execution_count": null,
      "outputs": []
    },
    {
      "cell_type": "code",
      "source": [
        "#debugging step : if google drive mount disconnects\n",
        "#!fusermount -u /content/drive\n",
        "#!rmdir /content/drive"
      ],
      "metadata": {
        "id": "gF4wX-VW2eSm"
      },
      "execution_count": null,
      "outputs": []
    },
    {
      "cell_type": "code",
      "source": [
        "#debugging step : remount gdrive using this\n",
        "#!mkdir -p /content/drive\n",
        "#!rclone --vfs-cache-mode writes mount gdrive: /content/drive &"
      ],
      "metadata": {
        "collapsed": true,
        "id": "wxIOYKaE_yxH"
      },
      "execution_count": null,
      "outputs": []
    },
    {
      "cell_type": "code",
      "source": [
        "#mounting drive\n",
        "!mkdir -p /content/drive\n",
        "!rclone --config /content/rclone.conf mount training_remote:/Diabetic_Retinopathy_Project /content/drive --vfs-cache-mode writes --daemon"
      ],
      "metadata": {
        "collapsed": true,
        "id": "rz13uvKmdCoG"
      },
      "execution_count": null,
      "outputs": []
    },
    {
      "cell_type": "code",
      "source": [
        "#to check for mounted folder\n",
        "!ls /content/drive"
      ],
      "metadata": {
        "collapsed": true,
        "id": "MJZZORe5kXVA"
      },
      "execution_count": null,
      "outputs": []
    },
    {
      "cell_type": "code",
      "source": [
        "#run this to keep gdrive alive // PS : IT DOSENT WORK LMAO\n",
        "#import time\n",
        "#while True:\n",
        "#    with open(\"/content/drive/keepalive.txt\", \"w\") as f:\n",
        "#        f.write(\"Prevent timeout\")\n",
        "#    time.sleep(600)  # Keep drive alive every 10 minutes\n"
      ],
      "metadata": {
        "id": "BmDsvJ5M_m3X",
        "collapsed": true
      },
      "execution_count": null,
      "outputs": []
    },
    {
      "cell_type": "code",
      "source": [
        "#to keep rclone alive\n",
        "!nohup rclone --config /content/rclone.conf mount training_remote:/Diabetic_Retinopathy_Project /content/drive --vfs-cache-mode writes --daemon > /dev/null 2>&1 &\n"
      ],
      "metadata": {
        "id": "w2jcFCGMeGV4"
      },
      "execution_count": null,
      "outputs": []
    },
    {
      "cell_type": "code",
      "source": [
        "#debugging step to check if rclone is still running\n",
        "#!ps aux | grep rclone\n"
      ],
      "metadata": {
        "collapsed": true,
        "id": "6DiAIX93jUaf"
      },
      "execution_count": null,
      "outputs": []
    },
    {
      "cell_type": "code",
      "source": [
        "#installing all requirements\n",
        "!pip install -r /content/drive/requirements.txt"
      ],
      "metadata": {
        "collapsed": true,
        "id": "61N3Q6T1eIPD"
      },
      "execution_count": null,
      "outputs": []
    },
    {
      "cell_type": "code",
      "source": [
        "#checking the mount paths\n",
        "!ls /content/drive"
      ],
      "metadata": {
        "collapsed": true,
        "id": "ngNEbj4PiU-7"
      },
      "execution_count": null,
      "outputs": []
    },
    {
      "cell_type": "code",
      "source": [
        "#logging cpu , gpu , ram , vram stats to gdrive  // PS : EVEN THIS DOSENT WORK LMAOO\n",
        "#as collab only runs 1 cell at a time , so cant train with this on\n",
        "#!while true; do \\\n",
        "#    echo \"📌 Timestamp: $(date)\" >> /content/drive/logs/system_stats.txt; \\\n",
        "#    echo \"🔹 GPU Stats:\" >> /content/drive/logs/system_stats.txt; \\\n",
        "#    nvidia-smi >> /content/drive/logs/system_stats.txt; \\\n",
        "#    echo \"🔹 CPU & RAM Usage:\" >> /content/drive/logs/system_stats.txt; \\\n",
        "#    top -b -n 1 | head -20 >> /content/drive/logs/system_stats.txt; \\\n",
        "#    echo \"---------------------------------------------\" >> /content/drive/logs/system_stats.txt; \\\n",
        "#    sleep 30; \\\n",
        "#done &\n"
      ],
      "metadata": {
        "id": "1BAocLQ9p8gk",
        "collapsed": true
      },
      "execution_count": null,
      "outputs": []
    },
    {
      "cell_type": "code",
      "source": [
        "# 1️⃣ Ensure LOG_DIR and CHECKPOINT_DIR exist in Google Drive.\n",
        "import os\n",
        "os.makedirs(\"/content/drive/logs\", exist_ok=True)\n",
        "os.makedirs(\"/content/drive/checkpoints\", exist_ok=True)"
      ],
      "metadata": {
        "id": "T9EqdfK3uVUC"
      },
      "execution_count": null,
      "outputs": []
    },
    {
      "cell_type": "code",
      "source": [
        "#to start training\n",
        "!python /content/drive/scripts/main.py\n"
      ],
      "metadata": {
        "collapsed": true,
        "id": "09tf3imTfB4Q"
      },
      "execution_count": null,
      "outputs": []
    },
    {
      "cell_type": "code",
      "source": [
        "#To resume from checkpoint:\n",
        "#!python /content/drive/scripts/resume_training.py"
      ],
      "metadata": {
        "id": "TOQOinlGn7kr"
      },
      "execution_count": null,
      "outputs": []
    },
    {
      "cell_type": "code",
      "source": [],
      "metadata": {
        "id": "NJ_M2jeTeADB"
      },
      "execution_count": null,
      "outputs": []
    }
  ]
}